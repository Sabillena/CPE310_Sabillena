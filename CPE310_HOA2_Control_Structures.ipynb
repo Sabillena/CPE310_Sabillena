{
  "nbformat": 4,
  "nbformat_minor": 0,
  "metadata": {
    "colab": {
      "provenance": [],
      "authorship_tag": "ABX9TyOiGBTTZPAls/BqsqUFXbj8",
      "include_colab_link": true
    },
    "kernelspec": {
      "name": "python3",
      "display_name": "Python 3"
    },
    "language_info": {
      "name": "python"
    }
  },
  "cells": [
    {
      "cell_type": "markdown",
      "metadata": {
        "id": "view-in-github",
        "colab_type": "text"
      },
      "source": [
        "<a href=\"https://colab.research.google.com/github/Sabillena/CPE310_Sabillena/blob/main/CPE310_HOA2_Control_Structures.ipynb\" target=\"_parent\"><img src=\"https://colab.research.google.com/assets/colab-badge.svg\" alt=\"Open In Colab\"/></a>"
      ]
    },
    {
      "cell_type": "code",
      "execution_count": null,
      "metadata": {
        "colab": {
          "base_uri": "https://localhost:8080/"
        },
        "id": "M8bozBV5-I4D",
        "outputId": "de20184f-be92-4ab6-b881-e0ee7f16c1f4"
      },
      "outputs": [
        {
          "output_type": "stream",
          "name": "stdout",
          "text": [
            "Enter your number --> 8\n",
            "Test divisibility by --> 3\n",
            "The number  8  is not divisible by  3 \n",
            "\n"
          ]
        }
      ],
      "source": [
        "# if Condition\n",
        "number = int(input(\"Enter your number --> \"))\n",
        "n = int(input(\"Test divisibility by --> \"))\n",
        "\n",
        "i = number%n\n",
        "\n",
        "if i != 0:\n",
        "    print (\"The number \",number,\" is not divisible by \",n,\"\\n\")\n"
      ]
    },
    {
      "cell_type": "code",
      "source": [
        "# Else Condition\n",
        "hidden = \"Mypasscode\"\n",
        "password = input(\"Enter your password: \")\n",
        "\n",
        "if password == hidden:\n",
        "    print(\"You entered the right password\\n\")\n",
        "else:\n",
        "    print(\"Wrong password!!\\n\")\n"
      ],
      "metadata": {
        "colab": {
          "base_uri": "https://localhost:8080/"
        },
        "id": "5Qt5ADp0_Lvt",
        "outputId": "3eceae7b-b8f9-4029-b77b-81d2eb5c12d4"
      },
      "execution_count": null,
      "outputs": [
        {
          "output_type": "stream",
          "name": "stdout",
          "text": [
            "Enter your password: Password\n",
            "Wrong password!!\n",
            "\n"
          ]
        }
      ]
    },
    {
      "cell_type": "code",
      "source": [
        "# For Loop\n",
        "names = [\"Andrea\", \"Nicole\", \"Sabillena\"]\n",
        "j = 0\n",
        "for name in names:\n",
        "    j += 1\n",
        "    print (\"The name number\", j, \"in the list is\", name)\n",
        "\n",
        "\n"
      ],
      "metadata": {
        "colab": {
          "base_uri": "https://localhost:8080/"
        },
        "id": "x0Kb4O4l_5hd",
        "outputId": "b3130956-c959-4c1a-e8ce-296408f70ba8"
      },
      "execution_count": null,
      "outputs": [
        {
          "output_type": "stream",
          "name": "stdout",
          "text": [
            "The name number 1 in the list is Andrea\n",
            "The name number 2 in the list is Nicole\n",
            "The name number 3 in the list is Sabillena\n"
          ]
        }
      ]
    },
    {
      "cell_type": "code",
      "source": [
        "N = int(input(\"Enter the last integer considered --> \"))\n",
        "Sum = 0\n",
        "for i in range(0, N+1, 1):\n",
        "    Sum += i**2\n",
        "print(\"The sum of the squares between 0 and\", N, \"is\", Sum)\n"
      ],
      "metadata": {
        "colab": {
          "base_uri": "https://localhost:8080/"
        },
        "id": "5JiYxwHjAYj8",
        "outputId": "59840d0b-9c5a-4f0e-b7f9-eb333426d463"
      },
      "execution_count": null,
      "outputs": [
        {
          "output_type": "stream",
          "name": "stdout",
          "text": [
            "Enter the last integer considered --> 5\n",
            "The sum of the squares between 0 and 5 is 55\n"
          ]
        }
      ]
    },
    {
      "cell_type": "code",
      "source": [
        "# While Loop\n",
        "N = int(input(\"Enter N --> \"))\n",
        "print(\"Counting numbers from 0 to\", N, \"\\n\")\n",
        "i = 0\n",
        "while i < N+1:\n",
        "    print (i, \"\\n\")\n",
        "    i += 1\n"
      ],
      "metadata": {
        "colab": {
          "base_uri": "https://localhost:8080/"
        },
        "id": "mgeTxDljAw4V",
        "outputId": "fe0d8e95-0ef3-4d1e-d65b-ec22e0784980"
      },
      "execution_count": null,
      "outputs": [
        {
          "output_type": "stream",
          "name": "stdout",
          "text": [
            "Enter N --> 5\n",
            "Counting numbers from 0 to 5 \n",
            "\n",
            "0 \n",
            "\n",
            "1 \n",
            "\n",
            "2 \n",
            "\n",
            "3 \n",
            "\n",
            "4 \n",
            "\n",
            "5 \n",
            "\n"
          ]
        }
      ]
    },
    {
      "cell_type": "code",
      "source": [
        "N = int(input(\"Enter N --> \"))\n",
        "for i in range(1, N+1, 1):\n",
        "  if i**2 == N:\n",
        "    break\n",
        "  else:\n",
        "    if i % 5 == 0:\n",
        "      continue\n",
        "    print (i)"
      ],
      "metadata": {
        "id": "AGGazSBaBrjV",
        "outputId": "5f2af1ae-3c0b-465a-e1ca-8d0111273615",
        "colab": {
          "base_uri": "https://localhost:8080/"
        }
      },
      "execution_count": null,
      "outputs": [
        {
          "output_type": "stream",
          "name": "stdout",
          "text": [
            "Enter N --> 10\n",
            "1\n",
            "2\n",
            "3\n",
            "4\n",
            "6\n",
            "7\n",
            "8\n",
            "9\n"
          ]
        }
      ]
    },
    {
      "cell_type": "markdown",
      "source": [
        "# Supplementary Activity"
      ],
      "metadata": {
        "id": "pMTuFlylDRl8"
      }
    },
    {
      "cell_type": "code",
      "source": [
        "# Factorial Calculation\n",
        "\n",
        "n = int(input(\"Enter a n!: \"))\n",
        "\n",
        "factorial = 1\n",
        "if n < 0:\n",
        "   print(\"Sorry, factorial does not exist for negative numbers\")\n",
        "elif n == 0 or n == 1:\n",
        "   print(f\"{n} is equal to 1\")\n",
        "else:\n",
        "   for i in range(1, n + 1):\n",
        "       factorial = factorial*i\n",
        "   print(f\"{n}! is equal to {factorial}\")"
      ],
      "metadata": {
        "colab": {
          "base_uri": "https://localhost:8080/"
        },
        "id": "-16guxy5CinU",
        "outputId": "00c767f7-fa57-4e7c-8ea0-8d5c62df1b46"
      },
      "execution_count": null,
      "outputs": [
        {
          "output_type": "stream",
          "name": "stdout",
          "text": [
            "Enter a n!: -1\n",
            "Sorry, factorial does not exist for negative numbers\n"
          ]
        }
      ]
    },
    {
      "cell_type": "code",
      "source": [
        "# Even/Odd Position Case Conversion\n",
        "\n",
        "def word_conversion(word):\n",
        "    word_conversion = \"\"\n",
        "    for i in range(len(word)):\n",
        "        if i % 2 == 0:\n",
        "            word_conversion += word[i].lower()\n",
        "        else:\n",
        "            word_conversion += word[i].upper()\n",
        "    return word_conversion\n",
        "\n",
        "word_input = input(\"Enter a single word: \")\n",
        "\n",
        "result = word_conversion(word_input)\n",
        "\n",
        "print(\"Converted word:\", result)\n",
        "\n"
      ],
      "metadata": {
        "colab": {
          "base_uri": "https://localhost:8080/"
        },
        "id": "1E4_nJUKDbyM",
        "outputId": "a8db566d-5e62-48e0-af8f-af2c1e9db23f"
      },
      "execution_count": null,
      "outputs": [
        {
          "output_type": "stream",
          "name": "stdout",
          "text": [
            "Enter a single word: Andrea\n",
            "Converted word: aNdReA\n"
          ]
        }
      ]
    },
    {
      "cell_type": "code",
      "source": [
        "# Caesar Cipher Exercise Encryption and Decryption with Shift 3\n",
        "\n",
        "def encrypt_shift_3(text):\n",
        "    result = []\n",
        "\n",
        "    for char in text:\n",
        "        if char.isalpha():\n",
        "            if char.isupper():\n",
        "                result.append(chr((ord(char) + 3 - 65) % 26 + 65))\n",
        "\n",
        "            else:\n",
        "                result.append(chr((ord(char) + 3 - 97) % 26 + 97))\n",
        "        else:\n",
        "            result.append(char)  #\n",
        "\n",
        "    return ''.join(result)\n",
        "\n",
        "def decrypt_shift_3(text):\n",
        "    result = []\n",
        "\n",
        "    for char in text:\n",
        "        if char.isalpha():\n",
        "            if char.isupper():\n",
        "                result.append(chr((ord(char) - 3 - 65) % 26 + 65))\n",
        "            else:\n",
        "                result.append(chr((ord(char) - 3 - 97) % 26 + 97))\n",
        "        else:\n",
        "            result.append(char)\n",
        "\n",
        "    return ''.join(result)\n",
        "\n",
        "# Encryption with Shift 3\n",
        "sentence = input(\"Enter a sentence to encrypt: \")\n",
        "\n",
        "encrypted_sentence = encrypt_shift_3(sentence)\n",
        "\n",
        "print(f\"Encrypted message: {encrypted_sentence}\")\n",
        "\n",
        "# Decryption with Shift 3\n",
        "encrypted_message = input(\"Enter an encrypted message (shifted by 3): \")\n",
        "\n",
        "decrypted_message = decrypt_shift_3(encrypted_message)\n",
        "\n",
        "print(f\"Decrypted message: {decrypted_message}\")\n",
        "\n",
        "\n"
      ],
      "metadata": {
        "colab": {
          "base_uri": "https://localhost:8080/"
        },
        "id": "LZ5DTEZsT2Cc",
        "outputId": "2fe82a65-13f5-4de6-9960-e9ab1a2257ae"
      },
      "execution_count": null,
      "outputs": [
        {
          "output_type": "stream",
          "name": "stdout",
          "text": [
            "Enter a sentence to encrypt: Hello World\n",
            "Encrypted message: Khoor Zruog\n",
            "Enter an encrypted message (shifted by 3): Khoor Zruog\n",
            "Decrypted message: Hello World\n"
          ]
        }
      ]
    },
    {
      "cell_type": "code",
      "source": [
        "# Encryption / Decryption with Shift N\n",
        "def encrypt(text, shift):\n",
        "    result = []\n",
        "\n",
        "    for char in text:\n",
        "        if char.isalpha():\n",
        "            if char.isupper():\n",
        "                result.append(chr((ord(char) + shift - 65) % 26 + 65))\n",
        "            else:\n",
        "                result.append(chr((ord(char) + shift - 97) % 26 + 97))\n",
        "        else:\n",
        "            result.append(char)\n",
        "\n",
        "    return ''.join(result)\n",
        "\n",
        "def decrypt(text, shift):\n",
        "    result = []\n",
        "\n",
        "    for char in text:\n",
        "        if char.isalpha():\n",
        "            if char.isupper():\n",
        "                result.append(chr((ord(char) - shift - 65) % 26 + 65))\n",
        "            else:\n",
        "                result.append(chr((ord(char) - shift - 97) % 26 + 97))\n",
        "        else:\n",
        "            result.append(char)\n",
        "\n",
        "    return ''.join(result)\n",
        "\n",
        "message = input(\"Enter a message to encrypt or decrypt: \")\n",
        "shift = int(input(\"Enter the shift value (between 0 and 10): \"))\n",
        "\n",
        "\n",
        "if shift < 0 or shift > 10:\n",
        "    print(\"Invalid! Please enter a number between 0 and 10.\")\n",
        "else:\n",
        "\n",
        "    encrypted_sentence = encrypt(message, shift)\n",
        "    print(f\"Encrypted message: {encrypted_sentence}\")\n",
        "\n",
        "\n",
        "    decrypted_sentence = decrypt(encrypted_sentence, shift)\n",
        "    print(f\"Decrypted message: {decrypted_sentence}\")"
      ],
      "metadata": {
        "colab": {
          "base_uri": "https://localhost:8080/"
        },
        "id": "Y4FDq1LkZWv8",
        "outputId": "7725facc-ecfe-4efa-f604-2e76552ef4e0"
      },
      "execution_count": null,
      "outputs": [
        {
          "output_type": "stream",
          "name": "stdout",
          "text": [
            "Enter a message to encrypt or decrypt: Hello World\n",
            "Enter the shift value (between 0 and 10): 4\n",
            "Encrypted message: Lipps Asvph\n",
            "Decrypted message: Hello World\n"
          ]
        }
      ]
    }
  ]
}