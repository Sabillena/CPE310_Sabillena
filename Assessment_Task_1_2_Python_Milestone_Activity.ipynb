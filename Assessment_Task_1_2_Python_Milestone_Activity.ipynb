{
  "nbformat": 4,
  "nbformat_minor": 0,
  "metadata": {
    "colab": {
      "provenance": [],
      "include_colab_link": true
    },
    "kernelspec": {
      "name": "python3",
      "display_name": "Python 3"
    },
    "language_info": {
      "name": "python"
    }
  },
  "cells": [
    {
      "cell_type": "markdown",
      "metadata": {
        "id": "view-in-github",
        "colab_type": "text"
      },
      "source": [
        "<a href=\"https://colab.research.google.com/github/Sabillena/CPE310_Sabillena/blob/main/Assessment_Task_1_2_Python_Milestone_Activity.ipynb\" target=\"_parent\"><img src=\"https://colab.research.google.com/assets/colab-badge.svg\" alt=\"Open In Colab\"/></a>"
      ]
    },
    {
      "cell_type": "markdown",
      "source": [
        "Assessment Task 1.2 Python Milestone Activity\n",
        "\n",
        "Andrea Nicole Sabillena\n",
        "\n",
        "Nicole Andrea Gamot\n",
        "\n",
        "IE22S2"
      ],
      "metadata": {
        "id": "b0ghlEsJ4vER"
      }
    },
    {
      "cell_type": "markdown",
      "source": [
        "**Exercise 1: Weather Monitoring System**\n",
        "\n"
      ],
      "metadata": {
        "id": "iHpQioJU4E3h"
      }
    },
    {
      "cell_type": "code",
      "execution_count": null,
      "metadata": {
        "id": "Xnd88TrE3eYB",
        "colab": {
          "base_uri": "https://localhost:8080/"
        },
        "outputId": "540fbdcf-eb11-4ae1-9279-d9a0ee7ec29e"
      },
      "outputs": [
        {
          "output_type": "stream",
          "name": "stdout",
          "text": [
            "°C: 39\n",
            "102.2 °F\n"
          ]
        }
      ],
      "source": [
        "# Task 1: Celcius to Fahrenheith\n",
        "def celcius_fahrenheit(Celcius):\n",
        "  return Celcius * (9/5)+32\n",
        "\n",
        "F = celcius_fahrenheit(Celcius)\n",
        "\n",
        "Celcius = float(input(\"°C: \" ))\n",
        "\n",
        "print(f\"{F} °F\")"
      ]
    },
    {
      "cell_type": "code",
      "source": [
        "# Task 2: Fahrenheit to Celcius\n",
        "def fahrenheit_celcius(Fahrenheit):\n",
        "  return (Fahrenheit-32)*(5/9)\n",
        "\n",
        "Fahrenheit = float(input(\"°F: \"))\n",
        "\n",
        "C = fahrenheit_celcius(Fahrenheit)\n",
        "\n",
        "print(f\"{C:.2f} °C\")"
      ],
      "metadata": {
        "colab": {
          "base_uri": "https://localhost:8080/"
        },
        "id": "ehRaOjop60Ro",
        "outputId": "2242ba9d-befe-460b-d422-b813b3a6d823"
      },
      "execution_count": 8,
      "outputs": [
        {
          "output_type": "stream",
          "name": "stdout",
          "text": [
            "°F: 102\n",
            "38.89 °C\n"
          ]
        }
      ]
    },
    {
      "cell_type": "code",
      "source": [
        "# Task 3:  Celcius to Kelvin\n",
        "def celcius_kelvin(Celcius):\n",
        "  return Celcius + 273.15\n",
        "\n",
        "Celcius = float(input(\"°C: \" ))\n",
        "\n",
        "K = celcius_kelvin(Celcius)\n",
        "\n",
        "print(f\"{K} T\")"
      ],
      "metadata": {
        "colab": {
          "base_uri": "https://localhost:8080/"
        },
        "id": "DazsmWP48c9Z",
        "outputId": "3aec8c3b-240f-4e5f-d17b-afac527ad5e8"
      },
      "execution_count": null,
      "outputs": [
        {
          "output_type": "stream",
          "name": "stdout",
          "text": [
            "°C: 39\n",
            "312.15 T\n"
          ]
        }
      ]
    },
    {
      "cell_type": "code",
      "source": [
        "# Task 4: Main Program\n",
        "def convert_temperature(temperature, unit, dunit):\n",
        "  if unit == dunit:\n",
        "    return temperature\n",
        "\n",
        "  if unit == 'C':\n",
        "    celcius = temperature\n",
        "  elif unit == 'F':\n",
        "    celcius = (Fahrenheith-32)*(5/9)\n",
        "  elif unit == 'K':\n",
        "    celcius = temperature - 273.15\n",
        "  else:\n",
        "    return \"Invalid Input\"\n",
        "\n",
        "  if dunit =='C':\n",
        "    return celcius\n",
        "  elif dunit =='F':\n",
        "    return Celcius*(9/5)+32\n",
        "  elif 'K':\n",
        "    return celcius + 273.15\n",
        "  else:\n",
        "    return \"Invalid Input\"\n",
        "\n",
        "\n",
        "temperature = float(input(\"Temperature: \"))\n",
        "unit = input(\"Unit: \")\n",
        "dunit = input(\"Desired Unit: \")\n",
        "\n",
        "converted_temperature = convert_temperature(temperature, unit, dunit)\n",
        "print(f\"Converted Temperature:{converted_temperature}\")\n",
        "\n",
        "\n",
        "\n"
      ],
      "metadata": {
        "colab": {
          "base_uri": "https://localhost:8080/"
        },
        "id": "WyHriUk-9EPI",
        "outputId": "49aa6a83-0e1c-4c50-94f0-c398ff20d220"
      },
      "execution_count": null,
      "outputs": [
        {
          "output_type": "stream",
          "name": "stdout",
          "text": [
            "Temperature: 39\n",
            "Unit: C\n",
            "Desired Unit: K\n",
            "Converted Temperature:312.15\n"
          ]
        }
      ]
    },
    {
      "cell_type": "markdown",
      "source": [
        "**Exercise 2: Text-Based Game Development**\n"
      ],
      "metadata": {
        "id": "IDtI_NCj5NgB"
      }
    },
    {
      "cell_type": "code",
      "source": [
        "# TASK 1: Function reverse_command(command)\n",
        "def reverse_command(command):\n",
        "    return command[::-1]\n",
        "\n",
        "# TASK 2: Function is_palindrome(command)\n",
        "def is_palindrome(command):\n",
        "    return command == command[::-1]\n",
        "\n",
        "# TASK 3: Function count_vowels\n",
        "def count_vowels(command):\n",
        "    vowels = \"aeiouAEIOU\"\n",
        "    return sum(1 for char in command if char in vowels)\n",
        "\n",
        "# Task 4 Main Program\n",
        "def main():\n",
        "    print(\"Text-Based Adventure Game!\")\n",
        "    command = input(\"Enter your command: \").strip()\n",
        "\n",
        "    if not command:\n",
        "        print(\"Command cannot be empty!\")\n",
        "        return\n",
        "\n",
        "    print(f\"Reversed Command: {reverse_command(command)}\")\n",
        "\n",
        "    if is_palindrome(command):\n",
        "        print(\"Secret door unlocked!.\")\n",
        "\n",
        "    vowel_count = count_vowels(command)\n",
        "    print(f\"Number of vowels: {vowel_count}\")\n",
        "\n",
        "    print(f\"Spell Strength: {count_vowels(command)}\")\n",
        "\n",
        "\n",
        "if __name__ == \"__main__\":\n",
        "    main()\n"
      ],
      "metadata": {
        "id": "6SPHMz6E5SbZ",
        "colab": {
          "base_uri": "https://localhost:8080/"
        },
        "outputId": "fc08e577-98eb-4ef9-c9bb-7fac9ef87e72"
      },
      "execution_count": 36,
      "outputs": [
        {
          "output_type": "stream",
          "name": "stdout",
          "text": [
            "Text-Based Adventure Game!\n",
            "Enter your command: radar\n",
            "Reversed Command: radar\n",
            "Secret door unlocked!.\n",
            "Number of vowels: 2\n",
            "Spell Strength: 2\n"
          ]
        }
      ]
    },
    {
      "cell_type": "markdown",
      "source": [
        "**Exercise 3: Personal Finance Manager**\n",
        "You are building a simple personal finance manager to help users keep track of their expenses and manage their budgets.\n",
        "\n",
        "    Task 1: Write a function add_income(income, total) that adds a new income amount to the total balance.\n",
        "    Task 2: Write a function subtract_expense(expense, total) that subtracts an expense amount from the total balance.\n",
        "    Task 3: Write a function calculate_balance(income, expenses) that calculates the remaining balance after accounting for all expenses.\n",
        "    Task 4: Create a main program that allows users to input their income and expenses, and then use the functions to display their remaining balance. The program should also warn the user if their expenses exceed their income.\n"
      ],
      "metadata": {
        "id": "tnT-ynb45Sxd"
      }
    },
    {
      "cell_type": "markdown",
      "source": [
        "*Task 1:* Write a function add_income(income, total) that adds a new income amount to the total balance."
      ],
      "metadata": {
        "id": "JMwPGJMmGdx2"
      }
    },
    {
      "cell_type": "code",
      "source": [
        "def add_income(income, total):\n",
        "    \"\"\"\n",
        "    Adds a new income amount to the total balance.\n",
        "\n",
        "    Parameters:\n",
        "    income (float): The amount of income to add.\n",
        "    total (float): The current total balance.\n",
        "\n",
        "    Returns:\n",
        "    float: The updated total balance after adding income.\n",
        "    \"\"\"\n",
        "    if income < 0:\n",
        "        raise ValueError(\"Income cannot be negative.\")\n",
        "\n",
        "    return total + income\n",
        "\n",
        "# Example usage\n",
        "total_balance = 1000.00  # Initial total balance\n",
        "new_income = 500.00  # New income amount\n",
        "\n",
        "total_balance = add_income(new_income, total_balance)\n",
        "print(\"Updated total balance:\", total_balance)\n"
      ],
      "metadata": {
        "id": "ApCsnISE5Y-I",
        "colab": {
          "base_uri": "https://localhost:8080/"
        },
        "outputId": "87ac0123-d74e-405d-aeb4-af95ea7d8d00"
      },
      "execution_count": null,
      "outputs": [
        {
          "output_type": "stream",
          "name": "stdout",
          "text": [
            "Updated total balance: 1500.0\n"
          ]
        }
      ]
    },
    {
      "cell_type": "markdown",
      "source": [
        "*Task 2: *Write a function subtract_expense(expense, total) that subtracts an expense amount from the total balance."
      ],
      "metadata": {
        "id": "g1DTgVLgGuj3"
      }
    },
    {
      "cell_type": "code",
      "source": [
        " def subtract_expense(expense, total):\n",
        "    \"\"\"\n",
        "    Subtracts an expense amount from the total balance.\n",
        "\n",
        "    Parameters:\n",
        "    expense (float): The amount of expense to subtract.\n",
        "    total (float): The current total balance.\n",
        "\n",
        "    Returns:\n",
        "    float: The updated total balance after subtracting the expense.\n",
        "    \"\"\"\n",
        "    if expense < 0:\n",
        "        raise ValueError(\"Expense cannot be negative.\")\n",
        "    if expense > total:\n",
        "        raise ValueError(\"Expense cannot exceed total balance.\")\n",
        "\n",
        "    return total - expense\n",
        "\n",
        "# Example usage\n",
        "total_balance = 1000.00  # Initial total balance\n",
        "new_income = 500.00  # New income amount\n",
        "total_balance = add_income(new_income, total_balance)\n",
        "print(\"Updated total balance:\", total_balance)\n",
        "\n",
        "new_expense = 200.00  # New expense amount\n",
        "total_balance = subtract_expense(new_expense, total_balance)\n",
        "print(\"Updated total balance after expense:\", total_balance)\n"
      ],
      "metadata": {
        "colab": {
          "base_uri": "https://localhost:8080/"
        },
        "id": "q3rYuC35Gymn",
        "outputId": "dceade3c-08e9-435c-b1d6-e1663fb5c0f9"
      },
      "execution_count": null,
      "outputs": [
        {
          "output_type": "stream",
          "name": "stdout",
          "text": [
            "Updated total balance: 1500.0\n",
            "Updated total balance after expense: 1300.0\n"
          ]
        }
      ]
    },
    {
      "cell_type": "markdown",
      "source": [
        "*Task 3:* Write a function calculate_balance(income, expenses) that calculates the remaining balance after accounting for all expenses."
      ],
      "metadata": {
        "id": "gyRscaqkG731"
      }
    },
    {
      "cell_type": "code",
      "source": [
        "def calculate_balance(income, expenses):\n",
        "    \"\"\"\n",
        "    Calculates the remaining balance after accounting for all expenses.\n",
        "\n",
        "    Parameters:\n",
        "    income (float): The total income amount.\n",
        "    expenses (float): The total expense amount.\n",
        "\n",
        "    Returns:\n",
        "    float: The remaining balance after subtracting expenses from income.\n",
        "    \"\"\"\n",
        "    if income < 0 or expenses < 0:\n",
        "        raise ValueError(\"Income and expenses cannot be negative.\")\n",
        "    if expenses > income:\n",
        "        raise ValueError(\"Expenses cannot exceed income.\")\n",
        "\n",
        "    return income - expenses\n",
        "\n",
        "# Example usage\n",
        "total_balance = 1000.00  # Initial total balance\n",
        "new_income = 500.00  # New income amount\n",
        "total_balance = add_income(new_income, total_balance)\n",
        "print(\"Updated total balance:\", total_balance)\n",
        "\n",
        "new_expense = 200.00  # New expense amount\n",
        "total_balance = subtract_expense(new_expense, total_balance)\n",
        "print(\"Updated total balance after expense:\", total_balance)\n",
        "\n",
        "remaining_balance = calculate_balance(new_income, new_expense)\n",
        "print(\"Remaining balance after accounting for expenses:\", remaining_balance)\n"
      ],
      "metadata": {
        "colab": {
          "base_uri": "https://localhost:8080/"
        },
        "id": "jwdXTbwrG_xV",
        "outputId": "0a38289e-2741-4cea-948b-f87730fae086"
      },
      "execution_count": null,
      "outputs": [
        {
          "output_type": "stream",
          "name": "stdout",
          "text": [
            "Updated total balance: 1500.0\n",
            "Updated total balance after expense: 1300.0\n",
            "Remaining balance after accounting for expenses: 300.0\n"
          ]
        }
      ]
    },
    {
      "cell_type": "markdown",
      "source": [
        "*Task 4:* Create a main program that allows users to input their income and expenses, and then use the functions to display their remaining balance. The program should also warn the user if their expenses exceed their income."
      ],
      "metadata": {
        "id": "88xh6tFaHKR2"
      }
    },
    {
      "cell_type": "code",
      "source": [
        "# Example transaction 1\n",
        "def add_income(income, total):\n",
        "    \"\"\"\n",
        "    Adds a new income amount to the total balance.\n",
        "\n",
        "    Parameters:\n",
        "    income (float): The amount of income to add.\n",
        "    total (float): The current total balance.\n",
        "\n",
        "    Returns:\n",
        "    float: The updated total balance after adding income.\n",
        "    \"\"\"\n",
        "    if income < 0:\n",
        "        raise ValueError(\"Income cannot be negative.\")\n",
        "\n",
        "    return total + income\n",
        "\n",
        "def subtract_expense(expense, total):\n",
        "    \"\"\"\n",
        "    Subtracts an expense amount from the total balance.\n",
        "\n",
        "    Parameters:\n",
        "    expense (float): The amount of expense to subtract.\n",
        "    total (float): The current total balance.\n",
        "\n",
        "    Returns:\n",
        "    float: The updated total balance after subtracting the expense.\n",
        "    \"\"\"\n",
        "    if expense < 0:\n",
        "        raise ValueError(\"Expense cannot be negative.\")\n",
        "    if expense > total:\n",
        "        raise ValueError(\"Expense cannot exceed total balance.\")\n",
        "\n",
        "    return total - expense\n",
        "\n",
        "def calculate_balance(income, expenses):\n",
        "    \"\"\"\n",
        "    Calculates the remaining balance after accounting for all expenses.\n",
        "\n",
        "    Parameters:\n",
        "    income (float): The total income amount.\n",
        "    expenses (float): The total expense amount.\n",
        "\n",
        "    Returns:\n",
        "    float: The remaining balance after subtracting expenses from income.\n",
        "    \"\"\"\n",
        "    if income < 0 or expenses < 0:\n",
        "        raise ValueError(\"Income and expenses cannot be negative.\")\n",
        "\n",
        "    return income - expenses\n",
        "\n",
        "def main():\n",
        "    \"\"\"\n",
        "    Main program that allows users to input their income and expenses\n",
        "    and displays the remaining balance.\n",
        "    \"\"\"\n",
        "    try:\n",
        "        income = float(input(\"Enter your total income: \"))\n",
        "        expenses = float(input(\"Enter your total expenses: \"))\n",
        "\n",
        "        if expenses > income:\n",
        "            print(\"Warning: Your expenses exceed your income!\")\n",
        "\n",
        "        remaining_balance = calculate_balance(income, expenses)\n",
        "        print(\"Your remaining balance is:\", remaining_balance)\n",
        "    except ValueError as e:\n",
        "        print(\"Invalid input:\", e)\n",
        "\n",
        "if __name__ == \"__main__\":\n",
        "    main()\n"
      ],
      "metadata": {
        "colab": {
          "base_uri": "https://localhost:8080/"
        },
        "id": "qoV77eC2HRvh",
        "outputId": "4288b294-516a-43d1-9901-c26adb83d613"
      },
      "execution_count": null,
      "outputs": [
        {
          "output_type": "stream",
          "name": "stdout",
          "text": [
            "Enter your total income: 35000\n",
            "Enter your total expenses: 10000\n",
            "Your remaining balance is: 25000.0\n"
          ]
        }
      ]
    },
    {
      "cell_type": "code",
      "source": [
        "# Example transaction 2\n",
        "def add_income(income, total):\n",
        "    \"\"\"\n",
        "    Adds a new income amount to the total balance.\n",
        "\n",
        "    Parameters:\n",
        "    income (float): The amount of income to add.\n",
        "    total (float): The current total balance.\n",
        "\n",
        "    Returns:\n",
        "    float: The updated total balance after adding income.\n",
        "    \"\"\"\n",
        "    if income < 0:\n",
        "        raise ValueError(\"Income cannot be negative.\")\n",
        "\n",
        "    return total + income\n",
        "\n",
        "def subtract_expense(expense, total):\n",
        "    \"\"\"\n",
        "    Subtracts an expense amount from the total balance.\n",
        "\n",
        "    Parameters:\n",
        "    expense (float): The amount of expense to subtract.\n",
        "    total (float): The current total balance.\n",
        "\n",
        "    Returns:\n",
        "    float: The updated total balance after subtracting the expense.\n",
        "    \"\"\"\n",
        "    if expense < 0:\n",
        "        raise ValueError(\"Expense cannot be negative.\")\n",
        "    if expense > total:\n",
        "        raise ValueError(\"Expense cannot exceed total balance.\")\n",
        "\n",
        "    return total - expense\n",
        "\n",
        "def calculate_balance(income, expenses):\n",
        "    \"\"\"\n",
        "    Calculates the remaining balance after accounting for all expenses.\n",
        "\n",
        "    Parameters:\n",
        "    income (float): The total income amount.\n",
        "    expenses (float): The total expense amount.\n",
        "\n",
        "    Returns:\n",
        "    float: The remaining balance after subtracting expenses from income.\n",
        "    \"\"\"\n",
        "    if income < 0 or expenses < 0:\n",
        "        raise ValueError(\"Income and expenses cannot be negative.\")\n",
        "\n",
        "    return income - expenses\n",
        "\n",
        "def main():\n",
        "    \"\"\"\n",
        "    Main program that allows users to input their income and expenses\n",
        "    and displays the remaining balance.\n",
        "    \"\"\"\n",
        "    try:\n",
        "        income = float(input(\"Enter your total income: \"))\n",
        "        expenses = float(input(\"Enter your total expenses: \"))\n",
        "\n",
        "        if expenses > income:\n",
        "            print(\"Warning: Your expenses exceed your income!\")\n",
        "\n",
        "        remaining_balance = calculate_balance(income, expenses)\n",
        "        print(\"Your remaining balance is:\", remaining_balance)\n",
        "    except ValueError as e:\n",
        "        print(\"Invalid input:\", e)\n",
        "\n",
        "if __name__ == \"__main__\":\n",
        "    main()\n"
      ],
      "metadata": {
        "colab": {
          "base_uri": "https://localhost:8080/"
        },
        "id": "eEUr6ZCBHZgP",
        "outputId": "8220a47c-1733-4a40-8fbf-d09f65d1f20e"
      },
      "execution_count": null,
      "outputs": [
        {
          "output_type": "stream",
          "name": "stdout",
          "text": [
            "Enter your total income: 15000\n",
            "Enter your total expenses: 16000\n",
            "Warning: Your expenses exceed your income!\n",
            "Your remaining balance is: -1000.0\n"
          ]
        }
      ]
    },
    {
      "cell_type": "markdown",
      "source": [
        "**Exercise 4: Event Planning System**\n",
        "\n",
        "Scenario: You are helping an event planner organize a series of events. The planner needs to manage guest lists and schedules effectively.\n",
        "\n",
        "    Task 1: Write a function factorial(n) that calculates the factorial of the number of guests to determine the possible seating arrangements. Use recursion to implement this function.\n",
        "    Task 2: Write a function fibonacci(n) that determines the sequence of events based on their importance (using the Fibonacci sequence to assign priorities). Use recursion to implement this function.\n",
        "    Task 3: Write a function total_guests(events) that sums up the total number of guests across multiple events.\n",
        "    Task 4: Create a main program that allows the event planner to input the number of guests for each event, and then calculates the possible seating arrangements and priorities of the events using the above functions. Display the results to help with planning.\n"
      ],
      "metadata": {
        "id": "jyMn1tOb5hGA"
      }
    },
    {
      "cell_type": "markdown",
      "source": [
        "*Task 1:* Write a function factorial(n) that calculates the factorial of the number of guests to determine the possible seating arrangements. Use recursion to implement this function."
      ],
      "metadata": {
        "id": "i_snGqOVHnr9"
      }
    },
    {
      "cell_type": "code",
      "source": [
        "def factorial(n):\n",
        "    if n == 0 or n == 1:\n",
        "        return 1\n",
        "    return n * factorial(n - 1)\n",
        "\n",
        "# Example usage:\n",
        "guests = 10\n",
        "print(f\"Possible seating arrangements: {factorial(guests)}\")\n"
      ],
      "metadata": {
        "id": "UGkhJvgG5lrZ",
        "colab": {
          "base_uri": "https://localhost:8080/"
        },
        "outputId": "8c119b39-0b09-44a8-d5f2-03b8e37151b7"
      },
      "execution_count": null,
      "outputs": [
        {
          "output_type": "stream",
          "name": "stdout",
          "text": [
            "Possible seating arrangements: 3628800\n"
          ]
        }
      ]
    },
    {
      "cell_type": "markdown",
      "source": [
        "*Task 2:* Write a function fibonacci(n) that determines the sequence of events based on their importance (using the Fibonacci sequence to assign priorities). Use recursion to implement this function."
      ],
      "metadata": {
        "id": "ipR2XC8bH0xd"
      }
    },
    {
      "cell_type": "code",
      "source": [
        "def fibonacci(n):\n",
        "    if n <= 0:\n",
        "        return 0\n",
        "    elif n == 1:\n",
        "        return 1\n",
        "    return fibonacci(n - 1) + fibonacci(n - 2)\n",
        "\n",
        "# Example usage:\n",
        "guests = 10\n",
        "print(f\"Possible seating arrangements: {factorial(guests)}\")\n",
        "\n",
        "priority = 4\n",
        "print(f\"Fibonacci priority sequence: {fibonacci(priority)}\")\n"
      ],
      "metadata": {
        "colab": {
          "base_uri": "https://localhost:8080/"
        },
        "id": "PzQeMkTBH4hF",
        "outputId": "571a9cae-fad9-4828-8b15-472d77b7b673"
      },
      "execution_count": null,
      "outputs": [
        {
          "output_type": "stream",
          "name": "stdout",
          "text": [
            "Possible seating arrangements: 3628800\n",
            "Fibonacci priority sequence: 3\n"
          ]
        }
      ]
    },
    {
      "cell_type": "markdown",
      "source": [
        "*Task 3:* Write a function total_guests(events) that sums up the total number of guests across multiple events."
      ],
      "metadata": {
        "id": "KBHx48OXIBVH"
      }
    },
    {
      "cell_type": "code",
      "source": [
        "def total_guests(events):\n",
        "    return sum(events)\n",
        "\n",
        "# Example usage:\n",
        "guests = 10\n",
        "print(f\"Possible seating arrangements: {factorial(guests)}\")\n",
        "\n",
        "priority = 4\n",
        "print(f\"Fibonacci priority sequence: {fibonacci(priority)}\")\n",
        "\n",
        "event_list = [10, 50, 30]\n",
        "print(f\"Total number of guests: {total_guests(event_list)}\")\n",
        "\n"
      ],
      "metadata": {
        "colab": {
          "base_uri": "https://localhost:8080/"
        },
        "id": "i2Sg3_PUIFT2",
        "outputId": "e6f8a7da-075e-46fe-91b8-d4f4ef6d2573"
      },
      "execution_count": null,
      "outputs": [
        {
          "output_type": "stream",
          "name": "stdout",
          "text": [
            "Possible seating arrangements: 3628800\n",
            "Fibonacci priority sequence: 3\n",
            "Total number of guests: 90\n"
          ]
        }
      ]
    },
    {
      "cell_type": "markdown",
      "source": [
        "*Task 4:* Create a main program that allows the event planner to input the number of guests for each event, and then calculates the possible seating arrangements and priorities of the events using the above functions. Display the results to help with planning."
      ],
      "metadata": {
        "id": "cUr235PIIRQp"
      }
    },
    {
      "cell_type": "code",
      "source": [
        "def factorial(n):\n",
        "    if n == 0 or n == 1:\n",
        "        return 1\n",
        "    return n * factorial(n - 1)\n",
        "\n",
        "def fibonacci(n):\n",
        "    if n <= 0:\n",
        "        return 0\n",
        "    elif n == 1:\n",
        "        return 1\n",
        "    return fibonacci(n - 1) + fibonacci(n - 2)\n",
        "\n",
        "def total_guests(events):\n",
        "    return sum(events)\n",
        "\n",
        "def main():\n",
        "    events = []\n",
        "    num_events = int(input(\"Enter the number of events: \"))\n",
        "\n",
        "    for i in range(num_events):\n",
        "        guests = int(input(f\"Enter the number of guests for event {i + 1}: \"))\n",
        "        events.append(guests)\n",
        "\n",
        "    total = total_guests(events)\n",
        "    print(f\"Total number of guests across all events: {total}\")\n",
        "\n",
        "    for i, guests in enumerate(events, 1):\n",
        "        print(f\"Event {i}: {guests} guests\")\n",
        "        print(f\"Possible seating arrangements: {factorial(guests)}\")\n",
        "        print(f\"Fibonacci priority sequence: {fibonacci(i)}\")\n",
        "        print(\"---\")\n",
        "\n",
        "if __name__ == \"__main__\":\n",
        "    main()\n"
      ],
      "metadata": {
        "colab": {
          "base_uri": "https://localhost:8080/"
        },
        "id": "RU_81a16IWDt",
        "outputId": "34b3e1a9-d327-4744-c3bf-428612efb936"
      },
      "execution_count": null,
      "outputs": [
        {
          "output_type": "stream",
          "name": "stdout",
          "text": [
            "Enter the number of events: 3\n",
            "Enter the number of guests for event 1: 30\n",
            "Enter the number of guests for event 2: 45\n",
            "Enter the number of guests for event 3: 25\n",
            "Total number of guests across all events: 100\n",
            "Event 1: 30 guests\n",
            "Possible seating arrangements: 265252859812191058636308480000000\n",
            "Fibonacci priority sequence: 1\n",
            "---\n",
            "Event 2: 45 guests\n",
            "Possible seating arrangements: 119622220865480194561963161495657715064383733760000000000\n",
            "Fibonacci priority sequence: 1\n",
            "---\n",
            "Event 3: 25 guests\n",
            "Possible seating arrangements: 15511210043330985984000000\n",
            "Fibonacci priority sequence: 2\n",
            "---\n"
          ]
        }
      ]
    },
    {
      "cell_type": "markdown",
      "source": [
        "**Exercise 5: Inventory Management System**\n",
        "\n",
        "Scenario: You are tasked with developing an inventory management system for a small retail store. The store needs to keep track of products, their quantities, and pricing.\n",
        "\n",
        "    Task 1: Write a function find_max_price(products) that finds the most expensive product in the inventory.\n",
        "    Task 2: Write a function find_min_stock(products) that identifies the product with the lowest stock, so the store can reorder it.\n",
        "    Task 3: Write a function average_price(products) that calculates the average price of all products to help with pricing strategies.\n",
        "    Task 4: Write a function remove_out_of_stock(products) that removes products with zero stock from the inventory list.\n",
        "    Task 5: Create a main program that simulates the store’s inventory management process. Allow the user (store manager) to input product details, and then use the functions to analyze and manage the inventory, providing insights such as the most expensive item, average pricing, and stock status.\n"
      ],
      "metadata": {
        "id": "Dfg4BZRq5mZK"
      }
    },
    {
      "cell_type": "markdown",
      "source": [
        "*Task 1:* Write a function find_max_price(products) that finds the most expensive product in the inventory."
      ],
      "metadata": {
        "id": "jw6utHzpM3CF"
      }
    },
    {
      "cell_type": "code",
      "source": [
        "def find_max_price(products):\n",
        "    if not products:\n",
        "        return None\n",
        "\n",
        "    return max(products, key=lambda p: p['price'])\n",
        "\n",
        "# Example usage\n",
        "inventory = [\n",
        "    {\"Predator\": \"Laptop\", \"price\": 1200, \"quantity\": 5},\n",
        "    {\"iPhone\": \"Phone\", \"price\": 800, \"quantity\": 10},\n",
        "    {\"Samsung\": \"Tablet\", \"price\": 600, \"quantity\": 7}\n",
        "]\n",
        "\n",
        "most_expensive = find_max_price(inventory)\n",
        "print(most_expensive)\n"
      ],
      "metadata": {
        "id": "ALjc9Nm05qMb",
        "colab": {
          "base_uri": "https://localhost:8080/"
        },
        "outputId": "67a10495-d1db-4f47-e906-b04952972221"
      },
      "execution_count": null,
      "outputs": [
        {
          "output_type": "stream",
          "name": "stdout",
          "text": [
            "{'Predator': 'Laptop', 'price': 1200, 'quantity': 5}\n"
          ]
        }
      ]
    },
    {
      "cell_type": "markdown",
      "source": [
        "*Task 2:* Write a function find_min_stock(products) that identifies the product with the lowest stock, so the store can reorder it."
      ],
      "metadata": {
        "id": "IFLYw-UHNjdI"
      }
    },
    {
      "cell_type": "code",
      "source": [
        "def find_min_stock(products):\n",
        "    if not products:\n",
        "        return None\n",
        "\n",
        "    return min(products, key=lambda p: p['quantity'])\n",
        "\n",
        "# Example usage\n",
        "inventory = [\n",
        "    {\"Predator\": \"Laptop\", \"price\": 1200, \"quantity\": 5},\n",
        "    {\"iPhone\": \"Phone\", \"price\": 800, \"quantity\": 10},\n",
        "    {\"Samsung\": \"Tablet\", \"price\": 600, \"quantity\": 7}\n",
        "]\n",
        "\n",
        "\n",
        "least_stocked = find_min_stock(inventory)\n",
        "print(least_stocked)\n"
      ],
      "metadata": {
        "colab": {
          "base_uri": "https://localhost:8080/"
        },
        "id": "hbD0EFWuNzUU",
        "outputId": "daf2ff84-d5f5-4e0a-d52e-c1b95f39a49e"
      },
      "execution_count": null,
      "outputs": [
        {
          "output_type": "stream",
          "name": "stdout",
          "text": [
            "{'Predator': 'Laptop', 'price': 1200, 'quantity': 5}\n"
          ]
        }
      ]
    },
    {
      "cell_type": "markdown",
      "source": [
        "*Task 3:* Write a function average_price(products) that calculates the average price of all products to help with pricing strategies."
      ],
      "metadata": {
        "id": "WTrH0pDEN9d_"
      }
    },
    {
      "cell_type": "code",
      "source": [
        "def average_price(products):\n",
        "    if not products:\n",
        "        return 0\n",
        "\n",
        "    total_price = sum(p['price'] for p in products)\n",
        "    return total_price / len(products)\n",
        "\n",
        "# Example usage\n",
        "inventory = [\n",
        "    {\"Predator\": \"Laptop\", \"price\": 1200, \"quantity\": 5},\n",
        "    {\"iPhone\": \"Phone\", \"price\": 800, \"quantity\": 10},\n",
        "    {\"Samsung\": \"Tablet\", \"price\": 600, \"quantity\": 7}\n",
        "]\n",
        "\n",
        "avg_price = average_price(inventory)\n",
        "print(avg_price)\n",
        "\n"
      ],
      "metadata": {
        "colab": {
          "base_uri": "https://localhost:8080/"
        },
        "id": "U-bXFnJ9OKTo",
        "outputId": "d0067a07-e548-411e-9624-6a9eefda01de"
      },
      "execution_count": null,
      "outputs": [
        {
          "output_type": "stream",
          "name": "stdout",
          "text": [
            "866.6666666666666\n"
          ]
        }
      ]
    },
    {
      "cell_type": "markdown",
      "source": [
        "*Task 4:* Write a function remove_out_of_stock(products) that removes products with zero stock from the inventory list."
      ],
      "metadata": {
        "id": "Ds9SWU7SOvf1"
      }
    },
    {
      "cell_type": "code",
      "source": [
        "def remove_out_of_stock(products):\n",
        "    return [p for p in products if p['quantity'] > 0]\n",
        "\n",
        "# Example usage\n",
        "inventory = [\n",
        "    {\"Predator\": \"Laptop\", \"price\": 1200, \"quantity\": 5},\n",
        "    {\"iPhone\": \"Phone\", \"price\": 800, \"quantity\": 10},\n",
        "    {\"Samsung\": \"Tablet\", \"price\": 600, \"quantity\": 7},\n",
        "    {\"Huawei\": \"Headphones\", \"price\": 150, \"quantity\": 0}\n",
        "\n",
        "]\n",
        "\n",
        "updated_inventory = remove_out_of_stock(inventory)\n",
        "print(updated_inventory)\n"
      ],
      "metadata": {
        "colab": {
          "base_uri": "https://localhost:8080/"
        },
        "id": "R93AhN0_O1PU",
        "outputId": "38cfeb7a-ce78-4353-bada-0539cb9e9deb"
      },
      "execution_count": null,
      "outputs": [
        {
          "output_type": "stream",
          "name": "stdout",
          "text": [
            "[{'Predator': 'Laptop', 'price': 1200, 'quantity': 5}, {'\\niPhone': 'Phone', 'price': 800, 'quantity': 10}, {'\\nSamsung': 'Tablet', 'price': 600, 'quantity': 7}]\n"
          ]
        }
      ]
    },
    {
      "cell_type": "markdown",
      "source": [
        "*Task 5:* Create a main program that simulates the store’s inventory management process. Allow the user (store manager) to input product details, and then use the functions to analyze and manage the inventory, providing insights such as the most expensive item, average pricing, and stock status."
      ],
      "metadata": {
        "id": "k0FEjjUAPqEs"
      }
    },
    {
      "cell_type": "code",
      "source": [
        "def find_max_price(products):\n",
        "    if not products:\n",
        "        return None\n",
        "\n",
        "    return max(products, key=lambda p: p['price'])\n",
        "\n",
        "def find_min_stock(products):\n",
        "    if not products:\n",
        "        return None\n",
        "\n",
        "    return min(products, key=lambda p: p['quantity'])\n",
        "\n",
        "def average_price(products):\n",
        "    if not products:\n",
        "        return 0\n",
        "\n",
        "    total_price = sum(p['price'] for p in products)\n",
        "    return total_price / len(products)\n",
        "\n",
        "def remove_out_of_stock(products):\n",
        "    return [p for p in products if p['quantity'] > 0]\n",
        "\n",
        "def main():\n",
        "    inventory = []\n",
        "    num_products = int(input(\"Enter the number of products: \"))\n",
        "\n",
        "    for _ in range(num_products):\n",
        "        name = input(\"Enter product name: \")\n",
        "        price = float(input(\"Enter product price: \"))\n",
        "        quantity = int(input(\"Enter product quantity: \"))\n",
        "        inventory.append({\"name\": name, \"price\": price, \"quantity\": quantity})\n",
        "\n",
        "    print(\"\\nInventory Analysis:\")\n",
        "    most_expensive = find_max_price(inventory)\n",
        "    print(f\"Most Expensive Product: {most_expensive}\")\n",
        "\n",
        "    least_stocked = find_min_stock(inventory)\n",
        "    print(f\"Product with Lowest Stock: {least_stocked}\")\n",
        "\n",
        "    avg_price = average_price(inventory)\n",
        "    print(f\"Average Price: {avg_price:.2f}\")\n",
        "\n",
        "    updated_inventory = remove_out_of_stock(inventory)\n",
        "    print(\"Updated Inventory (No Out-of-Stock Items):\", updated_inventory)\n",
        "\n",
        "if __name__ == \"__main__\":\n",
        "    main()\n"
      ],
      "metadata": {
        "id": "G152CSP2PxiX",
        "colab": {
          "base_uri": "https://localhost:8080/"
        },
        "outputId": "4a374697-84ed-41bb-e03c-9247f9151f24"
      },
      "execution_count": null,
      "outputs": [
        {
          "output_type": "stream",
          "name": "stdout",
          "text": [
            "Enter the number of products: 3\n",
            "Enter product name: Predator\n",
            "Enter product price: 1200\n",
            "Enter product quantity: 6\n",
            "Enter product name: iPhone\n",
            "Enter product price: 850\n",
            "Enter product quantity: 10\n",
            "Enter product name: Samsung \n",
            "Enter product price: 900\n",
            "Enter product quantity: 0\n",
            "\n",
            "Inventory Analysis:\n",
            "Most Expensive Product: {'name': 'Predator', 'price': 1200.0, 'quantity': 6}\n",
            "Product with Lowest Stock: {'name': 'Samsung ', 'price': 900.0, 'quantity': 0}\n",
            "Average Price: 983.33\n",
            "Updated Inventory (No Out-of-Stock Items): [{'name': 'Predator', 'price': 1200.0, 'quantity': 6}, {'name': 'iPhone', 'price': 850.0, 'quantity': 10}]\n"
          ]
        }
      ]
    }
  ]
}