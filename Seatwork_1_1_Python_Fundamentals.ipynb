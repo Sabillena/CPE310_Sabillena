{
  "nbformat": 4,
  "nbformat_minor": 0,
  "metadata": {
    "colab": {
      "provenance": [],
      "authorship_tag": "ABX9TyOemxFCry645THQvdyO3rFG",
      "include_colab_link": true
    },
    "kernelspec": {
      "name": "python3",
      "display_name": "Python 3"
    },
    "language_info": {
      "name": "python"
    }
  },
  "cells": [
    {
      "cell_type": "markdown",
      "metadata": {
        "id": "view-in-github",
        "colab_type": "text"
      },
      "source": [
        "<a href=\"https://colab.research.google.com/github/Sabillena/CPE310_Sabillena/blob/main/Seatwork_1_1_Python_Fundamentals.ipynb\" target=\"_parent\"><img src=\"https://colab.research.google.com/assets/colab-badge.svg\" alt=\"Open In Colab\"/></a>"
      ]
    },
    {
      "cell_type": "code",
      "source": [
        "# Calculate Prelim Grade\n",
        "def calculate_prelim_grade(p_exam, p_cs):\n",
        "    return 0.50 * p_exam + 0.50 * p_cs\n",
        "\n",
        "# Calculate Midterm Grade\n",
        "def calculate_midterm_grade(prelim_grade, m_exam, m_cs):\n",
        "    return (1/3) * prelim_grade + (2/3) * (0.50 * m_exam + 0.50 * m_cs)\n",
        "\n",
        "# Calculate Final Grade\n",
        "def calculate_final_grade(midterm_grade, f_exam, f_cs):\n",
        "    return (1/3) * midterm_grade + (2/3) * (0.50 * f_exam + 0.50 * f_cs)\n",
        "\n",
        "# Grade Conversion\n",
        "def convert_to_tip_grade(final_grade):\n",
        "    if 94 <= final_grade <= 100:\n",
        "        return 1.00\n",
        "    elif 88.5 <= final_grade <= 93.99:\n",
        "        return 1.25\n",
        "    elif 83 <= final_grade <= 88.49:\n",
        "        return 1.50\n",
        "    elif 77.5 <= final_grade <= 82.99:\n",
        "        return 1.75\n",
        "    elif 72 <= final_grade <= 77.49:\n",
        "        return 2.00\n",
        "    elif 65.5 <= final_grade <= 71.99:\n",
        "        return 2.25\n",
        "    elif 61 <= final_grade <= 65.49:\n",
        "        return 2.50\n",
        "    elif 55.5 <= final_grade <= 60.99:\n",
        "        return 2.75\n",
        "    elif 50 <= final_grade <= 55.49:\n",
        "        return 3.00\n",
        "    elif 0 <= final_grade <= 49.99:\n",
        "        return 5.00  # Assuming 5.00 for Failed\n",
        "    else:\n",
        "        return \"Invalid Grade\"\n",
        "\n",
        "# Main program\n",
        "name = input(\"Student Name: \")\n",
        "\n",
        "# Input Scores\n",
        "p_cs = float(input(\"Prelim Class Standing: \"))\n",
        "p_exam = float(input(\"Prelim Exam: \"))\n",
        "\n",
        "m_cs = float(input(\"Midterm Class Standing: \"))\n",
        "m_exam = float(input(\"Midterm Exam: \"))\n",
        "\n",
        "f_cs = float(input(\"Final Class Standing: \"))\n",
        "f_exam = float(input(\"Final Exam: \"))\n",
        "\n",
        "# Calculate Grades\n",
        "prelim_grade = calculate_prelim_grade(p_exam, p_cs)\n",
        "midterm_grade = calculate_midterm_grade(prelim_grade, m_exam, m_cs)\n",
        "final_grade = calculate_final_grade(midterm_grade, f_exam, f_cs)\n",
        "tip_grade = convert_to_tip_grade(final_grade)\n",
        "\n",
        "# Output\n",
        "print(\"\\n-----Final Grade Report-----\")\n",
        "print(f\"Student: {name}\")\n",
        "print(f\"  Prelim Grade:     {prelim_grade:.2f}\")\n",
        "print(f\"  Midterm Grade:    {midterm_grade:.2f}\")\n",
        "print(f\"  Final Grade:      {final_grade:.2f}\")\n",
        "print(f\"  TIP Grade Equivalent: {tip_grade}\")"
      ],
      "metadata": {
        "colab": {
          "base_uri": "https://localhost:8080/"
        },
        "id": "6oJt1VWY-9b8",
        "outputId": "60540eff-6726-483f-8291-9b0875f0b253"
      },
      "execution_count": 26,
      "outputs": [
        {
          "output_type": "stream",
          "name": "stdout",
          "text": [
            "Student Name: Yasmin Tricia Claridad\n",
            "Prelim Class Standing: 60\n",
            "Prelim Exam: 32.35\n",
            "Midterm Class Standing: 53\n",
            "Midterm Exam: 41\n",
            "Final Class Standing: 66.97\n",
            "Final Exam: 38\n",
            "\n",
            "-----Final Grade Report-----\n",
            "Student: Yasmin Tricia Claridad\n",
            "  Prelim Grade:     46.17\n",
            "  Midterm Grade:    46.72\n",
            "  Final Grade:      50.56\n",
            "  TIP Grade Equivalent: 3.0\n"
          ]
        }
      ]
    }
  ]
}