{
  "nbformat": 4,
  "nbformat_minor": 0,
  "metadata": {
    "colab": {
      "provenance": [],
      "authorship_tag": "ABX9TyPTt2URwpcRGUqRCSyH6MnB",
      "include_colab_link": true
    },
    "kernelspec": {
      "name": "python3",
      "display_name": "Python 3"
    },
    "language_info": {
      "name": "python"
    }
  },
  "cells": [
    {
      "cell_type": "markdown",
      "metadata": {
        "id": "view-in-github",
        "colab_type": "text"
      },
      "source": [
        "<a href=\"https://colab.research.google.com/github/Sabillena/CPE310_Sabillena/blob/main/HOA1_Literals_Operators_and_Variables.ipynb\" target=\"_parent\"><img src=\"https://colab.research.google.com/assets/colab-badge.svg\" alt=\"Open In Colab\"/></a>"
      ]
    },
    {
      "cell_type": "code",
      "execution_count": null,
      "metadata": {
        "colab": {
          "base_uri": "https://localhost:8080/"
        },
        "id": "Lr51iOyzsbzy",
        "outputId": "45d1d7da-3594-42b4-a9d0-26f862e8458a"
      },
      "outputs": [
        {
          "output_type": "stream",
          "name": "stdout",
          "text": [
            "5\n"
          ]
        }
      ],
      "source": [
        "# 1.1 Assigning variables of different data types in Python\n",
        "value = 5\n",
        "print(value)"
      ]
    },
    {
      "cell_type": "code",
      "source": [
        "type(value)"
      ],
      "metadata": {
        "colab": {
          "base_uri": "https://localhost:8080/"
        },
        "id": "VDZM-JH4tzaU",
        "outputId": "180a5d78-3931-48c6-de0d-3cafd9a0220d"
      },
      "execution_count": null,
      "outputs": [
        {
          "output_type": "execute_result",
          "data": {
            "text/plain": [
              "int"
            ]
          },
          "metadata": {},
          "execution_count": 2
        }
      ]
    },
    {
      "cell_type": "code",
      "source": [
        "value = 5.0\n",
        "print(value)"
      ],
      "metadata": {
        "colab": {
          "base_uri": "https://localhost:8080/"
        },
        "id": "CsR28opNt4Dj",
        "outputId": "fb35b96b-2bc9-49b4-a189-ff157b708e71"
      },
      "execution_count": null,
      "outputs": [
        {
          "output_type": "stream",
          "name": "stdout",
          "text": [
            "5.0\n"
          ]
        }
      ]
    },
    {
      "cell_type": "code",
      "source": [
        "type(value)"
      ],
      "metadata": {
        "colab": {
          "base_uri": "https://localhost:8080/"
        },
        "id": "O9gj4Gu1t4Lz",
        "outputId": "26b62459-3e12-48cb-8aa8-a1427c9f864e"
      },
      "execution_count": null,
      "outputs": [
        {
          "output_type": "execute_result",
          "data": {
            "text/plain": [
              "float"
            ]
          },
          "metadata": {},
          "execution_count": 4
        }
      ]
    },
    {
      "cell_type": "code",
      "source": [
        "value = 2+3j\n",
        "print(value)"
      ],
      "metadata": {
        "colab": {
          "base_uri": "https://localhost:8080/"
        },
        "id": "LLiSzZpkulPC",
        "outputId": "e2e236c6-faf0-40f8-c350-c8e87e1f133c"
      },
      "execution_count": null,
      "outputs": [
        {
          "output_type": "stream",
          "name": "stdout",
          "text": [
            "(2+3j)\n"
          ]
        }
      ]
    },
    {
      "cell_type": "code",
      "source": [
        "value = 'Hello World'\n",
        "print(value)"
      ],
      "metadata": {
        "colab": {
          "base_uri": "https://localhost:8080/"
        },
        "id": "P-709NOPt4TD",
        "outputId": "67f7fd8c-f662-4941-8eda-477f3f9cc7eb"
      },
      "execution_count": null,
      "outputs": [
        {
          "output_type": "stream",
          "name": "stdout",
          "text": [
            "Hello World\n"
          ]
        }
      ]
    },
    {
      "cell_type": "code",
      "source": [
        "type(value)"
      ],
      "metadata": {
        "colab": {
          "base_uri": "https://localhost:8080/"
        },
        "id": "lbtb3ll-t4ZC",
        "outputId": "ee4ac021-8f32-43e1-ed89-b33938eb08a5"
      },
      "execution_count": null,
      "outputs": [
        {
          "output_type": "execute_result",
          "data": {
            "text/plain": [
              "str"
            ]
          },
          "metadata": {},
          "execution_count": 7
        }
      ]
    },
    {
      "cell_type": "code",
      "source": [
        "Value = \"Hello World\"\n",
        "print(value)"
      ],
      "metadata": {
        "colab": {
          "base_uri": "https://localhost:8080/"
        },
        "id": "01Jh5-Myt4di",
        "outputId": "a558d710-4775-445a-d879-334bb8522a00"
      },
      "execution_count": null,
      "outputs": [
        {
          "output_type": "stream",
          "name": "stdout",
          "text": [
            "Hello World\n"
          ]
        }
      ]
    },
    {
      "cell_type": "code",
      "source": [
        "type(value)"
      ],
      "metadata": {
        "colab": {
          "base_uri": "https://localhost:8080/"
        },
        "id": "g8dycx4ot4hi",
        "outputId": "cf12e0c4-bed3-4198-940c-2e755afc1895"
      },
      "execution_count": null,
      "outputs": [
        {
          "output_type": "execute_result",
          "data": {
            "text/plain": [
              "str"
            ]
          },
          "metadata": {},
          "execution_count": 9
        }
      ]
    },
    {
      "cell_type": "code",
      "source": [
        "value = True\n",
        "print(value)"
      ],
      "metadata": {
        "colab": {
          "base_uri": "https://localhost:8080/"
        },
        "id": "aQKsWfJYt4ly",
        "outputId": "65f40e20-6587-462b-fa78-7d795206c215"
      },
      "execution_count": null,
      "outputs": [
        {
          "output_type": "stream",
          "name": "stdout",
          "text": [
            "True\n"
          ]
        }
      ]
    },
    {
      "cell_type": "code",
      "source": [
        "type(value)"
      ],
      "metadata": {
        "colab": {
          "base_uri": "https://localhost:8080/"
        },
        "id": "xIaQjo90t4pC",
        "outputId": "269b25b9-4daf-4911-ff2e-b10ae235bf89"
      },
      "execution_count": null,
      "outputs": [
        {
          "output_type": "execute_result",
          "data": {
            "text/plain": [
              "bool"
            ]
          },
          "metadata": {},
          "execution_count": 11
        }
      ]
    },
    {
      "cell_type": "code",
      "source": [
        "value = False\n",
        "print(value)"
      ],
      "metadata": {
        "colab": {
          "base_uri": "https://localhost:8080/"
        },
        "id": "ufEsSkm4wsNj",
        "outputId": "628d38ad-4e82-4969-dd7f-eb1d2ee9da41"
      },
      "execution_count": null,
      "outputs": [
        {
          "output_type": "stream",
          "name": "stdout",
          "text": [
            "False\n"
          ]
        }
      ]
    },
    {
      "cell_type": "code",
      "source": [
        "type(value)"
      ],
      "metadata": {
        "colab": {
          "base_uri": "https://localhost:8080/"
        },
        "id": "GHAM08q6wsfC",
        "outputId": "2fb0ad04-b9e3-44f5-865a-2b5c702ddd41"
      },
      "execution_count": null,
      "outputs": [
        {
          "output_type": "execute_result",
          "data": {
            "text/plain": [
              "bool"
            ]
          },
          "metadata": {},
          "execution_count": 13
        }
      ]
    },
    {
      "cell_type": "code",
      "source": [
        "value = [1,2,3,4,5]\n",
        "print(value)"
      ],
      "metadata": {
        "colab": {
          "base_uri": "https://localhost:8080/"
        },
        "id": "skY-dzjkwskC",
        "outputId": "ff812be5-3c84-4c88-c0d3-99919a300dc4"
      },
      "execution_count": null,
      "outputs": [
        {
          "output_type": "stream",
          "name": "stdout",
          "text": [
            "[1, 2, 3, 4, 5]\n"
          ]
        }
      ]
    },
    {
      "cell_type": "code",
      "source": [
        "type(value)"
      ],
      "metadata": {
        "colab": {
          "base_uri": "https://localhost:8080/"
        },
        "id": "JHyaEqbywsoa",
        "outputId": "bada0617-69e8-4be8-903c-d81549739f98"
      },
      "execution_count": null,
      "outputs": [
        {
          "output_type": "execute_result",
          "data": {
            "text/plain": [
              "list"
            ]
          },
          "metadata": {},
          "execution_count": 15
        }
      ]
    },
    {
      "cell_type": "code",
      "source": [
        "value = (1,2,3,4,5)\n",
        "print(value)"
      ],
      "metadata": {
        "colab": {
          "base_uri": "https://localhost:8080/"
        },
        "id": "sJTjoDvAwssS",
        "outputId": "02aa297b-69e5-417d-c784-416918274e2f"
      },
      "execution_count": null,
      "outputs": [
        {
          "output_type": "stream",
          "name": "stdout",
          "text": [
            "(1, 2, 3, 4, 5)\n"
          ]
        }
      ]
    },
    {
      "cell_type": "code",
      "source": [
        "type(value)"
      ],
      "metadata": {
        "colab": {
          "base_uri": "https://localhost:8080/"
        },
        "id": "eEvcodeazGIS",
        "outputId": "7fee084f-cd60-454c-cc90-871f274c8a44"
      },
      "execution_count": null,
      "outputs": [
        {
          "output_type": "execute_result",
          "data": {
            "text/plain": [
              "tuple"
            ]
          },
          "metadata": {},
          "execution_count": 17
        }
      ]
    },
    {
      "cell_type": "code",
      "source": [
        "value = {'name':'Andrea Sabillena'}\n",
        "print(value)"
      ],
      "metadata": {
        "colab": {
          "base_uri": "https://localhost:8080/"
        },
        "id": "UlJaETbEzGMS",
        "outputId": "7fc1b00c-8517-44b8-afde-ead0be069811"
      },
      "execution_count": null,
      "outputs": [
        {
          "output_type": "stream",
          "name": "stdout",
          "text": [
            "{'name': 'Andrea Sabillena'}\n"
          ]
        }
      ]
    },
    {
      "cell_type": "code",
      "source": [
        "type(value)"
      ],
      "metadata": {
        "colab": {
          "base_uri": "https://localhost:8080/"
        },
        "id": "feQtqpAlzGQK",
        "outputId": "9887928c-ac6e-44e7-cb13-bf97d1c915bc"
      },
      "execution_count": null,
      "outputs": [
        {
          "output_type": "execute_result",
          "data": {
            "text/plain": [
              "dict"
            ]
          },
          "metadata": {},
          "execution_count": 19
        }
      ]
    },
    {
      "cell_type": "code",
      "source": [
        "value = None\n",
        "print(value)"
      ],
      "metadata": {
        "colab": {
          "base_uri": "https://localhost:8080/"
        },
        "id": "yoFnr1vgzGTx",
        "outputId": "92227e4f-44fb-48a8-a00a-c46cd8e38668"
      },
      "execution_count": null,
      "outputs": [
        {
          "output_type": "stream",
          "name": "stdout",
          "text": [
            "None\n"
          ]
        }
      ]
    },
    {
      "cell_type": "code",
      "source": [
        "type(value)"
      ],
      "metadata": {
        "colab": {
          "base_uri": "https://localhost:8080/"
        },
        "id": "wWQFgD9YzGXC",
        "outputId": "9f67dc3f-a32e-43fc-bf3e-9ca477eddd85"
      },
      "execution_count": null,
      "outputs": [
        {
          "output_type": "execute_result",
          "data": {
            "text/plain": [
              "NoneType"
            ]
          },
          "metadata": {},
          "execution_count": 22
        }
      ]
    },
    {
      "cell_type": "code",
      "source": [
        "value = 5\n",
        "value2 = -6"
      ],
      "metadata": {
        "id": "5YgQNJaEzGaq"
      },
      "execution_count": null,
      "outputs": []
    },
    {
      "cell_type": "code",
      "source": [
        "# Procedure 2 Performing Operations with Python\n",
        "print(value+value2)"
      ],
      "metadata": {
        "colab": {
          "base_uri": "https://localhost:8080/"
        },
        "id": "IY899ALm0iAq",
        "outputId": "fb7a1939-4050-453d-84c3-e11a6b1e90fa"
      },
      "execution_count": null,
      "outputs": [
        {
          "output_type": "stream",
          "name": "stdout",
          "text": [
            "-1\n"
          ]
        }
      ]
    },
    {
      "cell_type": "code",
      "source": [
        "value, value2 = 5.0, 6\n",
        "print(value+value2)"
      ],
      "metadata": {
        "colab": {
          "base_uri": "https://localhost:8080/"
        },
        "id": "4VzWiBdt0iFL",
        "outputId": "5e2dc9aa-dd10-4100-8a53-e3ca03aae1a3"
      },
      "execution_count": null,
      "outputs": [
        {
          "output_type": "stream",
          "name": "stdout",
          "text": [
            "11.0\n"
          ]
        }
      ]
    },
    {
      "cell_type": "code",
      "source": [
        "value, value2 = 5.0, 6\n",
        "print(value+value2)"
      ],
      "metadata": {
        "colab": {
          "base_uri": "https://localhost:8080/"
        },
        "id": "x5C9Aq4Y0iIz",
        "outputId": "305bec7f-d0fc-48eb-fb4d-54c1f2818867"
      },
      "execution_count": null,
      "outputs": [
        {
          "output_type": "stream",
          "name": "stdout",
          "text": [
            "11.0\n"
          ]
        }
      ]
    },
    {
      "cell_type": "code",
      "source": [
        "value, value2 = -5, 6.1\n",
        "print(value+value2)"
      ],
      "metadata": {
        "colab": {
          "base_uri": "https://localhost:8080/"
        },
        "id": "HiZFF1_X0iMx",
        "outputId": "5f325a24-6e10-4734-eb13-d916fd6ec55e"
      },
      "execution_count": null,
      "outputs": [
        {
          "output_type": "stream",
          "name": "stdout",
          "text": [
            "1.0999999999999996\n"
          ]
        }
      ]
    },
    {
      "cell_type": "code",
      "source": [
        "value, value2 = \"Hello\", \"World\"\n",
        "print(value +\" \"+ value2)"
      ],
      "metadata": {
        "colab": {
          "base_uri": "https://localhost:8080/"
        },
        "id": "tDAbexhw0iQK",
        "outputId": "e6db57e4-fcd2-4960-9928-b762f41595aa"
      },
      "execution_count": null,
      "outputs": [
        {
          "output_type": "stream",
          "name": "stdout",
          "text": [
            "Hello World\n"
          ]
        }
      ]
    },
    {
      "cell_type": "code",
      "source": [
        "value, value2 = [1, 2, 3], [4, 5, 6]\n",
        "print(value+value2)"
      ],
      "metadata": {
        "colab": {
          "base_uri": "https://localhost:8080/"
        },
        "id": "9n84lZrg0iTS",
        "outputId": "97c676b3-6019-44ea-ca0f-a35aa804ab8b"
      },
      "execution_count": null,
      "outputs": [
        {
          "output_type": "stream",
          "name": "stdout",
          "text": [
            "[1, 2, 3, 4, 5, 6]\n"
          ]
        }
      ]
    },
    {
      "cell_type": "code",
      "source": [
        "value, value2 = (1, 2, 3), (4, 5, 6)\n",
        "print(value+value2)"
      ],
      "metadata": {
        "colab": {
          "base_uri": "https://localhost:8080/"
        },
        "id": "OMWgVK0S0iWi",
        "outputId": "c6835549-0e03-4a52-936e-ceba0da83db5"
      },
      "execution_count": null,
      "outputs": [
        {
          "output_type": "stream",
          "name": "stdout",
          "text": [
            "(1, 2, 3, 4, 5, 6)\n"
          ]
        }
      ]
    },
    {
      "cell_type": "code",
      "source": [
        "value, value2 = {\"name\":\"Andrea\"}, {\"Age\":\"20\"}\n",
        "print(value+value2)"
      ],
      "metadata": {
        "colab": {
          "base_uri": "https://localhost:8080/",
          "height": 159
        },
        "id": "CxPS0nEo0ia6",
        "outputId": "1bbefb13-11c6-473a-985c-3c2ebf9a462c"
      },
      "execution_count": null,
      "outputs": [
        {
          "output_type": "error",
          "ename": "TypeError",
          "evalue": "unsupported operand type(s) for +: 'dict' and 'dict'",
          "traceback": [
            "\u001b[0;31m---------------------------------------------------------------------------\u001b[0m",
            "\u001b[0;31mTypeError\u001b[0m                                 Traceback (most recent call last)",
            "\u001b[0;32m<ipython-input-32-4043f57871b3>\u001b[0m in \u001b[0;36m<cell line: 0>\u001b[0;34m()\u001b[0m\n\u001b[1;32m      1\u001b[0m \u001b[0mvalue\u001b[0m\u001b[0;34m,\u001b[0m \u001b[0mvalue2\u001b[0m \u001b[0;34m=\u001b[0m \u001b[0;34m{\u001b[0m\u001b[0;34m\"name\"\u001b[0m\u001b[0;34m:\u001b[0m\u001b[0;34m\"Andrea\"\u001b[0m\u001b[0;34m}\u001b[0m\u001b[0;34m,\u001b[0m \u001b[0;34m{\u001b[0m\u001b[0;34m\"Age\"\u001b[0m\u001b[0;34m:\u001b[0m\u001b[0;34m\"20\"\u001b[0m\u001b[0;34m}\u001b[0m\u001b[0;34m\u001b[0m\u001b[0;34m\u001b[0m\u001b[0m\n\u001b[0;32m----> 2\u001b[0;31m \u001b[0mprint\u001b[0m\u001b[0;34m(\u001b[0m\u001b[0mvalue\u001b[0m\u001b[0;34m+\u001b[0m\u001b[0mvalue2\u001b[0m\u001b[0;34m)\u001b[0m\u001b[0;34m\u001b[0m\u001b[0;34m\u001b[0m\u001b[0m\n\u001b[0m",
            "\u001b[0;31mTypeError\u001b[0m: unsupported operand type(s) for +: 'dict' and 'dict'"
          ]
        }
      ]
    },
    {
      "cell_type": "code",
      "source": [
        "value, value2 = 30, 4\n",
        "print(value*value2)\n",
        "print(value2**2)\n",
        "print(value2**3)\n",
        "print(value*value2+value2**2+1)\n",
        "print(value/value2)\n",
        "print(value%value2)"
      ],
      "metadata": {
        "colab": {
          "base_uri": "https://localhost:8080/"
        },
        "id": "fItG21ud29fS",
        "outputId": "056a4d5a-0e7c-4ee6-f047-d1330144d386"
      },
      "execution_count": null,
      "outputs": [
        {
          "output_type": "stream",
          "name": "stdout",
          "text": [
            "120\n",
            "16\n",
            "64\n",
            "137\n",
            "7.5\n",
            "2\n"
          ]
        }
      ]
    },
    {
      "cell_type": "code",
      "source": [
        "# Procedure 3\n",
        "print(input(\"What's your name?\"))"
      ],
      "metadata": {
        "colab": {
          "base_uri": "https://localhost:8080/"
        },
        "id": "Z_tB4a9q29vy",
        "outputId": "e5a70377-6ae3-4243-b809-34b6af7e74bf"
      },
      "execution_count": null,
      "outputs": [
        {
          "output_type": "stream",
          "name": "stdout",
          "text": [
            "What's your name?Andrea\n",
            "Andrea\n"
          ]
        }
      ]
    },
    {
      "cell_type": "code",
      "source": [
        "# Procedure 4: Assigning Input Data toa Variable\n",
        "name = input(\"Name: \")\n",
        "weight = float(input(\"Weight(kg): \"))\n",
        "height = float(input(\"Height(m): \"))\n",
        "\n",
        "bmi = weight / height**2\n",
        "print(f\"BMI: {bmi}\")"
      ],
      "metadata": {
        "colab": {
          "base_uri": "https://localhost:8080/"
        },
        "id": "IdVU1hm7290Z",
        "outputId": "14b2879d-ce46-4cd5-9b44-83503ca845c2"
      },
      "execution_count": null,
      "outputs": [
        {
          "output_type": "stream",
          "name": "stdout",
          "text": [
            "Name: Andrea\n",
            "Weight(kg): 58\n",
            "Height(m): 1.55\n",
            "BMI: 24.141519250780433\n"
          ]
        }
      ]
    },
    {
      "cell_type": "markdown",
      "source": [
        "# Supplementary Activity"
      ],
      "metadata": {
        "id": "A5iwgz7z5eoy"
      }
    },
    {
      "cell_type": "code",
      "source": [
        "# 1 Base of a Triangle\n",
        "\n",
        "base = float(input(\"Enter the base of the triangle:\"))\n",
        "height = float(input(\"Enter the height of the triangle:\"))\n",
        "area = (1/2)*base*height\n",
        "print(area)\n"
      ],
      "metadata": {
        "colab": {
          "base_uri": "https://localhost:8080/"
        },
        "id": "fMMmCZFG293p",
        "outputId": "eda96fde-c72f-4e57-b6d3-69ffb685c775"
      },
      "execution_count": null,
      "outputs": [
        {
          "output_type": "stream",
          "name": "stdout",
          "text": [
            "Enter the base of the triangle:4\n",
            "Enter the height of the triangle:2\n",
            "4.0\n"
          ]
        }
      ]
    },
    {
      "cell_type": "code",
      "source": [
        "# 2 Celcius to Fahrenheight\n",
        "\n",
        "Celcius = float(input(\"°C: \" ))\n",
        "\n",
        "F = Celcius*(9/5)+32\n",
        "\n",
        "print(f\"{F} °F\")"
      ],
      "metadata": {
        "colab": {
          "base_uri": "https://localhost:8080/"
        },
        "id": "nJ1XWNdo297C",
        "outputId": "76ed8abf-ca3f-4844-a8e3-068e6c3a0ace"
      },
      "execution_count": null,
      "outputs": [
        {
          "output_type": "stream",
          "name": "stdout",
          "text": [
            "°C: 39\n",
            "102.2 °F\n"
          ]
        }
      ]
    },
    {
      "cell_type": "code",
      "source": [
        "def calculate_distance(x1, y1, x2, y2):\n",
        "  return ((x2-x1)**2 + (y2 - y1)**2)**0.5\n",
        "\n",
        "x1 = float(input(\"Enter x1 : \"))\n",
        "y1 = float(input(\"Enter y1 : \"))\n",
        "x2 = float(input(\"Enter x2 : \"))\n",
        "y2 = float(input(\"Enter y2 : \"))\n",
        "\n",
        "distance = calculate_distance(x1, y1, x2, y2)\n",
        "print(distance)"
      ],
      "metadata": {
        "colab": {
          "base_uri": "https://localhost:8080/"
        },
        "id": "14rS6Ps4kznm",
        "outputId": "8bca661c-30f5-466b-be2c-151410155727"
      },
      "execution_count": null,
      "outputs": [
        {
          "output_type": "stream",
          "name": "stdout",
          "text": [
            "Enter x1 : 10\n",
            "Enter y1 : 16\n",
            "Enter x2 : 20\n",
            "Enter y2 : 4\n",
            "15.620499351813308\n"
          ]
        }
      ]
    },
    {
      "cell_type": "markdown",
      "source": [
        "**Questions**"
      ],
      "metadata": {
        "id": "UZnmhlKk5S4x"
      }
    },
    {
      "cell_type": "markdown",
      "source": [
        "1. Give one major difference in syntax that Python has with other languages such as C?\n",
        "\n",
        "   One major difference between Python and C++ is that in C++ you need to declare the variable type before declaring a variable, for example you need to add int or string in the beginning when declaring variable while in Python there is no need to declare the variable type.\n",
        "\n",
        "\n",
        "\n",
        "2. How does variable assignment differ in Python compared with other languages such as C?\n",
        "     \n",
        "  For me, it’s easier to assign a variable in Python because there is no need to declare the variable type. Unlike in C++ where you need to declare the variable type.\n",
        "\n",
        "\n",
        "3. Try assigning variable names that start with numbers, and special characters. Is the assigning of variables that start with numbers accepted by Python? For Special Characters? Is there an exception for variables special characters?\n",
        "\n",
        "  In Python, A variable name can only contain letters and numbers.However, you cannot assign a variable name that starts with numbers, and special characters. You also can’t use any special characters such as !, @, # the only special character allowed is underscore (_).\n",
        "\n",
        "\n",
        "\n",
        "4. Do the assignment operators (+, -, *, /, %, **) work for all data types? Why or Why not?\n",
        "\n",
        "  No the operators (+, -, *, /, %, **) do not work for all data types. The operators + and * does not work with Booleans and dictionaries. while the operators -, /, %, /, and ** does not work with booleans, lists, and strings.\n",
        "\n",
        "5. How does the * operator differ from the ** operator?\n",
        "\n",
        "  The operator * means multiplication while the operator ** means exponent.\n",
        "\n",
        "\n"
      ],
      "metadata": {
        "id": "4QlnHhAO5eZb"
      }
    },
    {
      "cell_type": "markdown",
      "source": [],
      "metadata": {
        "id": "ahIXzaI2_2QG"
      }
    }
  ]
}